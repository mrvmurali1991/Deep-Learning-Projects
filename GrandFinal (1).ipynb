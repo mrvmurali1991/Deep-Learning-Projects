{
  "cells": [
    {
      "cell_type": "code",
      "source": [
        "!pip install frontend"
      ],
      "metadata": {
        "id": "w3jK-Dsic5BD"
      },
      "execution_count": null,
      "outputs": []
    },
    {
      "cell_type": "code",
      "execution_count": null,
      "metadata": {
        "id": "A9uCyr7ZS1GF"
      },
      "outputs": [],
      "source": [
        "!pip install fitz"
      ]
    },
    {
      "cell_type": "code",
      "execution_count": 5,
      "metadata": {
        "id": "FL18cg27HRLc"
      },
      "outputs": [],
      "source": [
        "\n",
        "import csv\n",
        "import os\n",
        "import re\n",
        "import fitz\n",
        "# import cv2\n"
      ]
    },
    {
      "cell_type": "code",
      "source": [
        "pip install PyMuPDF"
      ],
      "metadata": {
        "colab": {
          "base_uri": "https://localhost:8080/"
        },
        "id": "nINNo_qNd0Kt",
        "outputId": "548ade6b-39ae-470b-f0bb-af047399f0e6"
      },
      "execution_count": 4,
      "outputs": [
        {
          "output_type": "stream",
          "name": "stdout",
          "text": [
            "Looking in indexes: https://pypi.org/simple, https://us-python.pkg.dev/colab-wheels/public/simple/\n",
            "Collecting PyMuPDF\n",
            "  Downloading PyMuPDF-1.20.1-cp37-cp37m-manylinux_2_17_x86_64.manylinux2014_x86_64.whl (8.8 MB)\n",
            "\u001b[K     |████████████████████████████████| 8.8 MB 5.9 MB/s \n",
            "\u001b[?25hInstalling collected packages: PyMuPDF\n",
            "Successfully installed PyMuPDF-1.20.1\n"
          ]
        }
      ]
    },
    {
      "cell_type": "code",
      "execution_count": 11,
      "metadata": {
        "id": "4qdm0roQJPPo"
      },
      "outputs": [],
      "source": [
        "import csv\n",
        "\n",
        "\n",
        "def bankofthewest(doc):\n",
        "\n",
        "    pageNo = []\n",
        "    accountNo = []\n",
        "    name = []\n",
        "    bankName = []\n",
        "    beginning = []\n",
        "    ending = []\n",
        "    address = []\n",
        "    startDate = []\n",
        "    endDate = []\n",
        "    for count, page in enumerate(doc, start=1):\n",
        "        blocks = page.get_text_blocks()\n",
        "        # valid =[w for w in blocks if re.search(\"Page 1 of\",w[4])]\n",
        "        # print(valid)\n",
        "        for b in blocks:\n",
        "            if re.search(\"Page 1 of\", b[4]):\n",
        "                # print(b)\n",
        "                pageNo.append(count)\n",
        "\n",
        "                data = (blocks[1][4].split(\" - \"))\n",
        "                startDate.append(data[0])\n",
        "                endDate.append(data[1][:-1])\n",
        "            # if fitz.Rect(b[:4])==[45.0, 133.70008850097656, 232.23989868164062, 143.88009643554688]:\n",
        "            if re.search(\"[0-9]{6}\\s[0-9]{7}\\s[0-9]{4}\", b[4]):\n",
        "                accountNo.append(b[4][1:-1])\n",
        "            if fitz.Rect(b[:4])==(418.32000732421875,  148.46009826660156,  506.6700134277344,  158.64010620117188):\n",
        "              # print(b[4].split(\".\")[0])\n",
        "              bankName.append(b[4].split(\".\")[0])\n",
        "            # bankName.append(banking)\n",
        "            if fitz.Rect(b[:4]) == (45.0, 144.21241760253906, 177.0044708251953, 182.62078857421875):\n",
        "                address.append(b[4])\n",
        "\n",
        "                # bussinessName.append(b[4].split('\\n')[0])\n",
        "                name.append(b[4].split('\\n')[0])\n",
        "\n",
        "            if re.search(\"Beginning Balance\", b[4]):\n",
        "                # print(b[4])\n",
        "                split = b[4].split(\"\\n\")\n",
        "                beginning.append(split[1])\n",
        "                ending.append(split[-2])\n",
        "    with open(f\"/content/output/{name[0]}+{bankName[0]}.csv\", 'w') as file:\n",
        "        writer = csv.writer(file)\n",
        "        header = [\"pageNo\", \"startDate\", \"endDate\", \"bankName\",\n",
        "                  \"accountNo\", \"name\", \"address\", \"beginning\", \"ending\"]\n",
        "        writer.writerow(header)\n",
        "\n",
        "        for count, data in enumerate(pageNo):\n",
        "            datapoints = [pageNo[count], startDate[count], endDate[count], bankName[count],\n",
        "                          accountNo[count], name[count], address[count], beginning[count], ending[count]]\n",
        "            writer.writerow(datapoints)\n",
        "        # print(datapoints)\n"
      ]
    },
    {
      "cell_type": "code",
      "execution_count": 8,
      "metadata": {
        "id": "aw0GdMDcSxio"
      },
      "outputs": [],
      "source": [
        "def wellsForgo(doc):\n",
        "    startDate = []\n",
        "    startBal = []\n",
        "    endBal = []\n",
        "    endDate = []\n",
        "    pageNo = []\n",
        "    address = []\n",
        "    name = []\n",
        "    bankName = []\n",
        "    accountNo = []\n",
        "    for count, page in enumerate(doc, start=1):\n",
        "        blocks = page.get_text(\"blocks\")\n",
        "        for blockcount, b in enumerate(blocks):\n",
        "            if re.search(\"Page 1 of\", b[4]):\n",
        "                pageNo.append(count)\n",
        "                \n",
        "            if fitz.Rect(b[:4]) == [40.08000183105469, 175.9525146484375, 217.65274047851562, 212.66110229492188]:\n",
        "                address.append(b[4])\n",
        "                # print(b[4])\n",
        "                name.append(b[4].split(\"\\n\")[0])\n",
        "            if fitz.Rect(b[:4]) == [36.0, 167.22003173828125, 200.95957946777344, 203.05999755859375]:\n",
        "                address.append((b[4]))\n",
        "                # print(b[4])\n",
        "                name.append(b[4].split(\"\\n\")[0])\n",
        "            if fitz.Rect(b[:4])==[40.08000183105469,175.9525146484375,155.8333740234375,212.66110229492188]:\n",
        "                    address.append((b[4]))\n",
        "                    name.append(b[4].split(\"\\n\")[0])\n",
        "\n",
        "                    \n",
        "                        # print(i[4].split(\"\\n\")[0])\n",
        "            if re.search(\"Beginning balance on\", b[4]):\n",
        "                startDate.append(b[4].split(\"\\n\")[0].split(\" \")[-1])\n",
        "                startBal.append(b[4].split(\"\\n\")[-2].strip(\" \"))\n",
        "\n",
        "            if re.search('Ending balance on ', b[4]):\n",
        "                endDate.append(b[4].split(\"\\n\")[0].split(\" \")[-1])\n",
        "                endBal.append(b[4].split(\"\\n\")[-2].strip(\" \"))\n",
        "            if re.search(\"Write: \", b[4]):\n",
        "                # bankName.append(banking)\n",
        "                bankName.append(\" \".join(b[4].split()[1:4]))\n",
        "            if re.search(\"Account number: \", b[4]):\n",
        "                accountNo.append(b[4].split()[-1])\n",
        "\n",
        "    endDate = endDate[::2]\n",
        "    endBal = endBal[::2]\n",
        "    # print(doc)\n",
        "    # return(len(startDate),len(endDate),len(startBal),len(endBal),len(accountNo),len(bankName),len(pageNo),len(address),bankName[0])\n",
        "\n",
        "    with open(f\"../Output/{bankName[0]}-{name[0]}.csv\", 'w') as file:\n",
        "        writer = csv.writer(file)\n",
        "        header = [\"pageNo\", \"startDate\", \"endDate\", \"bankName\",\n",
        "                  \"accountNo\", \"name\", \"address\", \"beginning\", \"ending\"]\n",
        "        writer.writerow(header)\n",
        "\n",
        "        for count, i in enumerate(address):\n",
        "            datapoints = [pageNo[count], startDate[count], endDate[count], bankName[count],\n",
        "                          accountNo[count], name[count], address[count], startBal[count], endBal[count]]\n",
        "            writer.writerow(datapoints)\n"
      ]
    },
    {
      "cell_type": "code",
      "execution_count": 9,
      "metadata": {
        "id": "k2egT4iESxis"
      },
      "outputs": [],
      "source": [
        "def eglinFederal(doc):\n",
        "    startDate = []\n",
        "    endDate = []\n",
        "    startBal = []\n",
        "    endBal = []\n",
        "    pageNo = []\n",
        "    address = []\n",
        "    name = []\n",
        "    bankName = []\n",
        "    accountNo = []\n",
        "    for count, page in enumerate(doc, start=1):\n",
        "        blocks = page.get_text(\"blocks\")\n",
        "        for blockcount, b in enumerate(blocks):\n",
        "            if re.search(\"Page 1 of\", b[4]):\n",
        "                pageNo.append(count)\n",
        "                for page1 in blocks:\n",
        "                    if re.search(\"[X]{6}[0-9]{4}\", page1[4]):\n",
        "                        accountNo.append(page1[4].split(\"\\n\")[-2])\n",
        "                        bankName.append(\"Eglin Federal Credit Union\")\n",
        "            if re.search(\"Balance as of last statement\", b[4]):\n",
        "                baldata = b[4].split(\"\\n\")\n",
        "                startBal.append(baldata[1].strip().split()[-1])\n",
        "                endBal.append(baldata[5].strip().split()[-1])\n",
        "            if fitz.Rect(b[:4]) == [100.80000305175781, 121.11862182617188, 256.8481140136719, 169.66366577148438]:\n",
        "                address.append(b[4])\n",
        "                name.append(b[4].split(\"\\n\")[0])\n",
        "            # if re.search(\"Visit eglinfcu.org/cards\",b[4]):\n",
        "            #     address.append(blocks[blockcount-1][4])\n",
        "            #     name.append(blocks[blockcount-1][4].split(\"\\n\")[0])\n",
        "            if re.search(\"Checking\", b[4]):\n",
        "                startDate.append(blocks[blockcount+1]\n",
        "                                 [4].split(\"\\n\")[1].split()[0])\n",
        "            if re.search(\"New Balance \", b[4]) and not re.search(\"Resulting\", b[4]) and not re.search(\"VIP\", blocks[blockcount-1][4]) and not re.search(\"Regular Share\", blocks[blockcount-1][4]):\n",
        "                endDate.append(b[4].split()[-4])\n",
        "    # startDate=[w for w in startDate if re.search(\"[0-9]{2}-[0-9]{2}-[0-9]{2}\",w)]\n",
        "    with open(f\"../Output/{bankName[0]}-{name[0]}.csv\", 'w') as file:\n",
        "        writer = csv.writer(file)\n",
        "        header = [\"pageNo\", \"startDate\", \"endDate\", \"bankName\",\n",
        "                  \"accountNo\", \"name\", \"address\", \"beginning\", \"ending\"]\n",
        "        writer.writerow(header)\n",
        "\n",
        "        for count, i in enumerate(address):\n",
        "            datapoints = [pageNo[count], startDate[count], endDate[count], bankName[count],\n",
        "                          accountNo[count], name[count], address[count], startBal[count], endBal[count]]\n",
        "            writer.writerow(datapoints)\n",
        "\n"
      ]
    },
    {
      "cell_type": "code",
      "execution_count": 12,
      "metadata": {
        "id": "ehaGrQCQHfz2"
      },
      "outputs": [],
      "source": [
        "path = \"/content/banks\"\n",
        "dir_list = os.listdir(path)\n",
        "bankList = {'Chase.com', 'bankofamerica.com', 'bankofthewest.com', 'eglinfcu.org',\n",
        "            'unionbank.com', 'wellsfargo.com', 'www.fairwinds.org', 'www.wescom.org'}\n",
        "bankNameList = [\n",
        "    \"JPMorgan Chase Bank\",\n",
        "    \"Bank of America\",\n",
        "    \"Bank of the West\",\n",
        "    \"Eglin Federal Credit Union\",\n",
        "    \"UNION BANK\",\n",
        "    \"Wells Fargo Bank\",\n",
        "    \"Fairwinds Credit Union\",\n",
        "    \"Wescom Credit Union\"\n",
        "]\n",
        "\n",
        "for i in dir_list:\n",
        "    doc = fitz.open(path+\"/\"+i)\n",
        "    page = doc[0].get_text_words()\n",
        "    # print(links)\n",
        "    out = (doc[0].search_for(\".com\"))\n",
        "    # print(out)\n",
        "    outdata = [(w.x0, w.y0, w.x1, w.y1) for w in out if len(w) > 0]\n",
        "    for b in page:\n",
        "        # print(b)\n",
        "        if re.search(\"[a-zA-Z]+\\.[\\w]+\", b[4]) and b[4] != \"N.A.\" and b[4] != \"P.O.\":\n",
        "            for count, bank in enumerate(bankList):\n",
        "                if re.search(bank, b[4]):\n",
        "                    if bank == \"bankofthewest.com\":\n",
        "                        bankofthewest(doc)\n",
        "                    if bank == \"wellsfargo.com\":\n",
        "                        wellsForgo(doc)\n",
        "                    if bank == \"eglinfcu.org\":\n",
        "                        eglinFederal(doc)\n",
        "\n",
        "\n",
        "# print(bankList)\n"
      ]
    },
    {
      "cell_type": "code",
      "source": [
        "!python -m spacy download en_core_web_lg "
      ],
      "metadata": {
        "colab": {
          "base_uri": "https://localhost:8080/"
        },
        "id": "fE9DiPeTvV7G",
        "outputId": "0ec88fe3-301d-41dc-923b-06444b9de794"
      },
      "execution_count": 2,
      "outputs": [
        {
          "output_type": "stream",
          "name": "stdout",
          "text": [
            "Looking in indexes: https://pypi.org/simple, https://us-python.pkg.dev/colab-wheels/public/simple/\n",
            "Collecting en-core-web-lg==3.3.0\n",
            "  Downloading https://github.com/explosion/spacy-models/releases/download/en_core_web_lg-3.3.0/en_core_web_lg-3.3.0-py3-none-any.whl (400.7 MB)\n",
            "\u001b[K     |████████████████████████████████| 400.7 MB 5.6 kB/s \n",
            "\u001b[?25hRequirement already satisfied: spacy<3.4.0,>=3.3.0.dev0 in /usr/local/lib/python3.7/dist-packages (from en-core-web-lg==3.3.0) (3.3.1)\n",
            "Requirement already satisfied: jinja2 in /usr/local/lib/python3.7/dist-packages (from spacy<3.4.0,>=3.3.0.dev0->en-core-web-lg==3.3.0) (2.11.3)\n",
            "Requirement already satisfied: packaging>=20.0 in /usr/local/lib/python3.7/dist-packages (from spacy<3.4.0,>=3.3.0.dev0->en-core-web-lg==3.3.0) (21.3)\n",
            "Requirement already satisfied: typer<0.5.0,>=0.3.0 in /usr/local/lib/python3.7/dist-packages (from spacy<3.4.0,>=3.3.0.dev0->en-core-web-lg==3.3.0) (0.4.1)\n",
            "Requirement already satisfied: catalogue<2.1.0,>=2.0.6 in /usr/local/lib/python3.7/dist-packages (from spacy<3.4.0,>=3.3.0.dev0->en-core-web-lg==3.3.0) (2.0.7)\n",
            "Requirement already satisfied: pathy>=0.3.5 in /usr/local/lib/python3.7/dist-packages (from spacy<3.4.0,>=3.3.0.dev0->en-core-web-lg==3.3.0) (0.6.1)\n",
            "Requirement already satisfied: thinc<8.1.0,>=8.0.14 in /usr/local/lib/python3.7/dist-packages (from spacy<3.4.0,>=3.3.0.dev0->en-core-web-lg==3.3.0) (8.0.17)\n",
            "Requirement already satisfied: requests<3.0.0,>=2.13.0 in /usr/local/lib/python3.7/dist-packages (from spacy<3.4.0,>=3.3.0.dev0->en-core-web-lg==3.3.0) (2.23.0)\n",
            "Requirement already satisfied: typing-extensions<4.2.0,>=3.7.4 in /usr/local/lib/python3.7/dist-packages (from spacy<3.4.0,>=3.3.0.dev0->en-core-web-lg==3.3.0) (4.1.1)\n",
            "Requirement already satisfied: murmurhash<1.1.0,>=0.28.0 in /usr/local/lib/python3.7/dist-packages (from spacy<3.4.0,>=3.3.0.dev0->en-core-web-lg==3.3.0) (1.0.7)\n",
            "Requirement already satisfied: cymem<2.1.0,>=2.0.2 in /usr/local/lib/python3.7/dist-packages (from spacy<3.4.0,>=3.3.0.dev0->en-core-web-lg==3.3.0) (2.0.6)\n",
            "Requirement already satisfied: numpy>=1.15.0 in /usr/local/lib/python3.7/dist-packages (from spacy<3.4.0,>=3.3.0.dev0->en-core-web-lg==3.3.0) (1.21.6)\n",
            "Requirement already satisfied: langcodes<4.0.0,>=3.2.0 in /usr/local/lib/python3.7/dist-packages (from spacy<3.4.0,>=3.3.0.dev0->en-core-web-lg==3.3.0) (3.3.0)\n",
            "Requirement already satisfied: pydantic!=1.8,!=1.8.1,<1.9.0,>=1.7.4 in /usr/local/lib/python3.7/dist-packages (from spacy<3.4.0,>=3.3.0.dev0->en-core-web-lg==3.3.0) (1.8.2)\n",
            "Requirement already satisfied: wasabi<1.1.0,>=0.9.1 in /usr/local/lib/python3.7/dist-packages (from spacy<3.4.0,>=3.3.0.dev0->en-core-web-lg==3.3.0) (0.9.1)\n",
            "Requirement already satisfied: preshed<3.1.0,>=3.0.2 in /usr/local/lib/python3.7/dist-packages (from spacy<3.4.0,>=3.3.0.dev0->en-core-web-lg==3.3.0) (3.0.6)\n",
            "Requirement already satisfied: tqdm<5.0.0,>=4.38.0 in /usr/local/lib/python3.7/dist-packages (from spacy<3.4.0,>=3.3.0.dev0->en-core-web-lg==3.3.0) (4.64.0)\n",
            "Requirement already satisfied: spacy-loggers<2.0.0,>=1.0.0 in /usr/local/lib/python3.7/dist-packages (from spacy<3.4.0,>=3.3.0.dev0->en-core-web-lg==3.3.0) (1.0.2)\n",
            "Requirement already satisfied: srsly<3.0.0,>=2.4.3 in /usr/local/lib/python3.7/dist-packages (from spacy<3.4.0,>=3.3.0.dev0->en-core-web-lg==3.3.0) (2.4.3)\n",
            "Requirement already satisfied: spacy-legacy<3.1.0,>=3.0.9 in /usr/local/lib/python3.7/dist-packages (from spacy<3.4.0,>=3.3.0.dev0->en-core-web-lg==3.3.0) (3.0.9)\n",
            "Requirement already satisfied: setuptools in /usr/local/lib/python3.7/dist-packages (from spacy<3.4.0,>=3.3.0.dev0->en-core-web-lg==3.3.0) (57.4.0)\n",
            "Requirement already satisfied: blis<0.8.0,>=0.4.0 in /usr/local/lib/python3.7/dist-packages (from spacy<3.4.0,>=3.3.0.dev0->en-core-web-lg==3.3.0) (0.7.7)\n",
            "Requirement already satisfied: zipp>=0.5 in /usr/local/lib/python3.7/dist-packages (from catalogue<2.1.0,>=2.0.6->spacy<3.4.0,>=3.3.0.dev0->en-core-web-lg==3.3.0) (3.8.0)\n",
            "Requirement already satisfied: pyparsing!=3.0.5,>=2.0.2 in /usr/local/lib/python3.7/dist-packages (from packaging>=20.0->spacy<3.4.0,>=3.3.0.dev0->en-core-web-lg==3.3.0) (3.0.9)\n",
            "Requirement already satisfied: smart-open<6.0.0,>=5.0.0 in /usr/local/lib/python3.7/dist-packages (from pathy>=0.3.5->spacy<3.4.0,>=3.3.0.dev0->en-core-web-lg==3.3.0) (5.2.1)\n",
            "Requirement already satisfied: idna<3,>=2.5 in /usr/local/lib/python3.7/dist-packages (from requests<3.0.0,>=2.13.0->spacy<3.4.0,>=3.3.0.dev0->en-core-web-lg==3.3.0) (2.10)\n",
            "Requirement already satisfied: chardet<4,>=3.0.2 in /usr/local/lib/python3.7/dist-packages (from requests<3.0.0,>=2.13.0->spacy<3.4.0,>=3.3.0.dev0->en-core-web-lg==3.3.0) (3.0.4)\n",
            "Requirement already satisfied: certifi>=2017.4.17 in /usr/local/lib/python3.7/dist-packages (from requests<3.0.0,>=2.13.0->spacy<3.4.0,>=3.3.0.dev0->en-core-web-lg==3.3.0) (2022.6.15)\n",
            "Requirement already satisfied: urllib3!=1.25.0,!=1.25.1,<1.26,>=1.21.1 in /usr/local/lib/python3.7/dist-packages (from requests<3.0.0,>=2.13.0->spacy<3.4.0,>=3.3.0.dev0->en-core-web-lg==3.3.0) (1.24.3)\n",
            "Requirement already satisfied: click<9.0.0,>=7.1.1 in /usr/local/lib/python3.7/dist-packages (from typer<0.5.0,>=0.3.0->spacy<3.4.0,>=3.3.0.dev0->en-core-web-lg==3.3.0) (7.1.2)\n",
            "Requirement already satisfied: MarkupSafe>=0.23 in /usr/local/lib/python3.7/dist-packages (from jinja2->spacy<3.4.0,>=3.3.0.dev0->en-core-web-lg==3.3.0) (2.0.1)\n",
            "Installing collected packages: en-core-web-lg\n",
            "Successfully installed en-core-web-lg-3.3.0\n",
            "\u001b[38;5;2m✔ Download and installation successful\u001b[0m\n",
            "You can now load the package via spacy.load('en_core_web_lg')\n"
          ]
        }
      ]
    },
    {
      "cell_type": "code",
      "execution_count": 3,
      "metadata": {
        "id": "sqEcHpNLSxiz"
      },
      "outputs": [],
      "source": [
        "import spacy\n",
        "from spacy import displacy\n",
        "nlp=spacy.load(\"en_core_web_lg\")\n",
        "sentence=\"on wall street, the finacial industry offcially started on may 17,1792, at 6 pm by\\ signing the Buttonwood Agreement.the doxument is now part of the archial \""
      ]
    },
    {
      "cell_type": "code",
      "source": [
        "doc=nlp(sentence)"
      ],
      "metadata": {
        "id": "Tt67Pd2JqYOy"
      },
      "execution_count": 4,
      "outputs": []
    },
    {
      "cell_type": "code",
      "source": [
        "displacy.render(doc,style='ent',jupyter=True)"
      ],
      "metadata": {
        "colab": {
          "base_uri": "https://localhost:8080/",
          "height": 87
        },
        "id": "qBPcmBwiqacA",
        "outputId": "f83a15e7-9911-48d1-b47a-b144f09d4563"
      },
      "execution_count": 5,
      "outputs": [
        {
          "output_type": "display_data",
          "data": {
            "text/plain": [
              "<IPython.core.display.HTML object>"
            ],
            "text/html": [
              "<span class=\"tex2jax_ignore\"><div class=\"entities\" style=\"line-height: 2.5; direction: ltr\">on wall street, the finacial industry offcially started on \n",
              "<mark class=\"entity\" style=\"background: #bfe1d9; padding: 0.45em 0.6em; margin: 0 0.25em; line-height: 1; border-radius: 0.35em;\">\n",
              "    may 17,1792\n",
              "    <span style=\"font-size: 0.8em; font-weight: bold; line-height: 1; border-radius: 0.35em; vertical-align: middle; margin-left: 0.5rem\">DATE</span>\n",
              "</mark>\n",
              ", at \n",
              "<mark class=\"entity\" style=\"background: #bfe1d9; padding: 0.45em 0.6em; margin: 0 0.25em; line-height: 1; border-radius: 0.35em;\">\n",
              "    6 pm\n",
              "    <span style=\"font-size: 0.8em; font-weight: bold; line-height: 1; border-radius: 0.35em; vertical-align: middle; margin-left: 0.5rem\">TIME</span>\n",
              "</mark>\n",
              " by\\ signing the \n",
              "<mark class=\"entity\" style=\"background: #aa9cfc; padding: 0.45em 0.6em; margin: 0 0.25em; line-height: 1; border-radius: 0.35em;\">\n",
              "    Buttonwood Agreement.the doxument\n",
              "    <span style=\"font-size: 0.8em; font-weight: bold; line-height: 1; border-radius: 0.35em; vertical-align: middle; margin-left: 0.5rem\">PERSON</span>\n",
              "</mark>\n",
              " is now part of the archial </div></span>"
            ]
          },
          "metadata": {}
        }
      ]
    },
    {
      "cell_type": "code",
      "source": [
        "!pip install easyocr"
      ],
      "metadata": {
        "colab": {
          "base_uri": "https://localhost:8080/"
        },
        "id": "YZb7-JOtqcY0",
        "outputId": "7352d207-1a86-4288-af6d-b18036497065"
      },
      "execution_count": 6,
      "outputs": [
        {
          "output_type": "stream",
          "name": "stdout",
          "text": [
            "Looking in indexes: https://pypi.org/simple, https://us-python.pkg.dev/colab-wheels/public/simple/\n",
            "Collecting easyocr\n",
            "  Downloading easyocr-1.5.0-py3-none-any.whl (70.8 MB)\n",
            "\u001b[K     |████████████████████████████████| 70.8 MB 28 kB/s \n",
            "\u001b[?25hRequirement already satisfied: torch in /usr/local/lib/python3.7/dist-packages (from easyocr) (1.11.0+cu113)\n",
            "Requirement already satisfied: scikit-image in /usr/local/lib/python3.7/dist-packages (from easyocr) (0.18.3)\n",
            "Requirement already satisfied: torchvision>=0.5 in /usr/local/lib/python3.7/dist-packages (from easyocr) (0.12.0+cu113)\n",
            "Requirement already satisfied: numpy in /usr/local/lib/python3.7/dist-packages (from easyocr) (1.21.6)\n",
            "Requirement already satisfied: scipy in /usr/local/lib/python3.7/dist-packages (from easyocr) (1.4.1)\n",
            "Requirement already satisfied: Pillow in /usr/local/lib/python3.7/dist-packages (from easyocr) (7.1.2)\n",
            "Collecting python-bidi\n",
            "  Downloading python_bidi-0.4.2-py2.py3-none-any.whl (30 kB)\n",
            "Requirement already satisfied: PyYAML in /usr/local/lib/python3.7/dist-packages (from easyocr) (3.13)\n",
            "Collecting opencv-python-headless<=4.5.4.60\n",
            "  Downloading opencv_python_headless-4.5.4.60-cp37-cp37m-manylinux_2_17_x86_64.manylinux2014_x86_64.whl (47.6 MB)\n",
            "\u001b[K     |████████████████████████████████| 47.6 MB 2.2 MB/s \n",
            "\u001b[?25hRequirement already satisfied: typing-extensions in /usr/local/lib/python3.7/dist-packages (from torchvision>=0.5->easyocr) (4.1.1)\n",
            "Requirement already satisfied: requests in /usr/local/lib/python3.7/dist-packages (from torchvision>=0.5->easyocr) (2.23.0)\n",
            "Requirement already satisfied: six in /usr/local/lib/python3.7/dist-packages (from python-bidi->easyocr) (1.15.0)\n",
            "Requirement already satisfied: certifi>=2017.4.17 in /usr/local/lib/python3.7/dist-packages (from requests->torchvision>=0.5->easyocr) (2022.6.15)\n",
            "Requirement already satisfied: urllib3!=1.25.0,!=1.25.1,<1.26,>=1.21.1 in /usr/local/lib/python3.7/dist-packages (from requests->torchvision>=0.5->easyocr) (1.24.3)\n",
            "Requirement already satisfied: chardet<4,>=3.0.2 in /usr/local/lib/python3.7/dist-packages (from requests->torchvision>=0.5->easyocr) (3.0.4)\n",
            "Requirement already satisfied: idna<3,>=2.5 in /usr/local/lib/python3.7/dist-packages (from requests->torchvision>=0.5->easyocr) (2.10)\n",
            "Requirement already satisfied: networkx>=2.0 in /usr/local/lib/python3.7/dist-packages (from scikit-image->easyocr) (2.6.3)\n",
            "Requirement already satisfied: tifffile>=2019.7.26 in /usr/local/lib/python3.7/dist-packages (from scikit-image->easyocr) (2021.11.2)\n",
            "Requirement already satisfied: PyWavelets>=1.1.1 in /usr/local/lib/python3.7/dist-packages (from scikit-image->easyocr) (1.3.0)\n",
            "Requirement already satisfied: matplotlib!=3.0.0,>=2.0.0 in /usr/local/lib/python3.7/dist-packages (from scikit-image->easyocr) (3.2.2)\n",
            "Requirement already satisfied: imageio>=2.3.0 in /usr/local/lib/python3.7/dist-packages (from scikit-image->easyocr) (2.4.1)\n",
            "Requirement already satisfied: python-dateutil>=2.1 in /usr/local/lib/python3.7/dist-packages (from matplotlib!=3.0.0,>=2.0.0->scikit-image->easyocr) (2.8.2)\n",
            "Requirement already satisfied: cycler>=0.10 in /usr/local/lib/python3.7/dist-packages (from matplotlib!=3.0.0,>=2.0.0->scikit-image->easyocr) (0.11.0)\n",
            "Requirement already satisfied: kiwisolver>=1.0.1 in /usr/local/lib/python3.7/dist-packages (from matplotlib!=3.0.0,>=2.0.0->scikit-image->easyocr) (1.4.3)\n",
            "Requirement already satisfied: pyparsing!=2.0.4,!=2.1.2,!=2.1.6,>=2.0.1 in /usr/local/lib/python3.7/dist-packages (from matplotlib!=3.0.0,>=2.0.0->scikit-image->easyocr) (3.0.9)\n",
            "Installing collected packages: python-bidi, opencv-python-headless, easyocr\n",
            "Successfully installed easyocr-1.5.0 opencv-python-headless-4.5.4.60 python-bidi-0.4.2\n"
          ]
        }
      ]
    },
    {
      "cell_type": "code",
      "source": [
        "import easyocr\n",
        "reader = easyocr.Reader(['en'])"
      ],
      "metadata": {
        "colab": {
          "base_uri": "https://localhost:8080/"
        },
        "id": "pBNd-yW_qjUN",
        "outputId": "cd07abf8-ee52-4300-9433-19d1dd0415e3"
      },
      "execution_count": 7,
      "outputs": [
        {
          "output_type": "stream",
          "name": "stderr",
          "text": [
            "CUDA not available - defaulting to CPU. Note: This module is much faster with a GPU.\n",
            "Downloading detection model, please wait. This may take several minutes depending upon your network connection.\n"
          ]
        },
        {
          "output_type": "stream",
          "name": "stdout",
          "text": [
            "Progress: |██████████████████████████████████████████████████| 100.0% Complete"
          ]
        },
        {
          "output_type": "stream",
          "name": "stderr",
          "text": [
            "Downloading recognition model, please wait. This may take several minutes depending upon your network connection.\n"
          ]
        },
        {
          "output_type": "stream",
          "name": "stdout",
          "text": [
            "Progress: |██████████████████████████████████████████████████| 100.0% Complete"
          ]
        }
      ]
    },
    {
      "cell_type": "code",
      "source": [
        "bounds = reader.readtext('/content/2022020008_BS_Darius Lamont Turner_BANK OF THE WEST_8407_2022020008_page-0001.jpg',detail = 0, paragraph=True)"
      ],
      "metadata": {
        "id": "oYGa3vx9qjpa"
      },
      "execution_count": 8,
      "outputs": []
    },
    {
      "cell_type": "code",
      "source": [
        "str(bounds)"
      ],
      "metadata": {
        "colab": {
          "base_uri": "https://localhost:8080/",
          "height": 174
        },
        "id": "ehNhFy2UsciY",
        "outputId": "a0810ce1-bc6f-4a58-fd35-80dbea35c69d"
      },
      "execution_count": 9,
      "outputs": [
        {
          "output_type": "execute_result",
          "data": {
            "text/plain": [
              "\"['BANK#EWEST BNP PARIBAS P.O. Box 2830, Omaha, NE 68103-2830', 'Account Statement January 1, 2022 January 31, 2022 Page 1 of 6', 'Atyour service bankofthewest.com', '>016671 6888744 0001 008230 102 DARIUS LAMONT TURNER DBA DARIUS TURNER 9631 PILLITERI WAY ELK GROVE CA 95757-4615', '1-800-488-2265', '1-800-659-5495 TTY', 'We Appreciate You Thank you for banking with Bank of the West: We appreciate your business and look forward to continuing to serve your banking needs:', '1 3 3 ] 8', 'CLASSIC BUSINESS CHECKING 040-618407 DARIUS LAMONT TURNER DBA DARIUS TURNER', 'ACCOUNT SUMMARY Beginning Balance Credits Deposits 135 Withdrawals 4 Checks Ending Balance', 'EARNINGS SUMMARY Interest this statement period Interest credited year-to-date Interest credited prior year Annual percentage yield earned Average monthly balance', 'S19,399.41 60,030.58 00 -42,462.17 -4,312.71 532,655.11', 'SO.OO So.OO SO.0O 0.00% S18,661.62', 'For your protection: Examine this statement promptly: Any discrepancy must be reported within 30 days_ Consumer customers: A discrepancy regarding an electronic payment or line of credit must be reported within 60 days.', 'Me m b et FDIC @eNGer', 'In South Dakota; Bank of the West operates under the name of Bank of the West California']\""
            ],
            "application/vnd.google.colaboratory.intrinsic+json": {
              "type": "string"
            }
          },
          "metadata": {},
          "execution_count": 9
        }
      ]
    },
    {
      "cell_type": "code",
      "source": [
        "doc=nlp(str(bounds))"
      ],
      "metadata": {
        "id": "_yir77yIsn2E"
      },
      "execution_count": 10,
      "outputs": []
    },
    {
      "cell_type": "code",
      "source": [
        "for ent in doc.ents:\n",
        "    print(ent.text,  ent.label_)"
      ],
      "metadata": {
        "colab": {
          "base_uri": "https://localhost:8080/"
        },
        "id": "lMOL0nXYN3ZW",
        "outputId": "cdae884b-7461-43ea-f575-7a2e9057a8b1"
      },
      "execution_count": 11,
      "outputs": [
        {
          "output_type": "stream",
          "name": "stdout",
          "text": [
            "2830 DATE\n",
            "Omaha GPE\n",
            "NE 68103-2830' ORG\n",
            "January 1, 2022 January 31 DATE\n",
            "2022 CARDINAL\n",
            "1 CARDINAL\n",
            "6 CARDINAL\n",
            "102 CARDINAL\n",
            "DARIUS LAMONT TURNER PERSON\n",
            "DBA ORG\n",
            "DARIUS TURNER 9631 ORG\n",
            "Bank of the West ORG\n",
            "DARIUS LAMONT TURNER PERSON\n",
            "DBA ORG\n",
            "DARIUS TURNER' PERSON\n",
            "year-to-date DATE\n",
            "prior year DATE\n",
            "Annual DATE\n",
            "monthly DATE\n",
            "00 CARDINAL\n",
            "-42,462.17 -4,312.71 PERSON\n",
            "0.00% PERCENT\n",
            "30 days DATE\n",
            "60 days DATE\n",
            "FDIC ORG\n",
            "South Dakota GPE\n",
            "Bank of the West ORG\n",
            "Bank of the West California' ORG\n"
          ]
        }
      ]
    },
    {
      "cell_type": "code",
      "source": [
        "displacy.render(doc,style='ent',jupyter=True)"
      ],
      "metadata": {
        "colab": {
          "base_uri": "https://localhost:8080/",
          "height": 437
        },
        "id": "-2JGmofRu4pC",
        "outputId": "f43d50f2-ff1c-43fe-9a66-900f1e7c109f"
      },
      "execution_count": 12,
      "outputs": [
        {
          "output_type": "display_data",
          "data": {
            "text/plain": [
              "<IPython.core.display.HTML object>"
            ],
            "text/html": [
              "<span class=\"tex2jax_ignore\"><div class=\"entities\" style=\"line-height: 2.5; direction: ltr\">['BANK#EWEST BNP PARIBAS P.O. Box \n",
              "<mark class=\"entity\" style=\"background: #bfe1d9; padding: 0.45em 0.6em; margin: 0 0.25em; line-height: 1; border-radius: 0.35em;\">\n",
              "    2830\n",
              "    <span style=\"font-size: 0.8em; font-weight: bold; line-height: 1; border-radius: 0.35em; vertical-align: middle; margin-left: 0.5rem\">DATE</span>\n",
              "</mark>\n",
              ", \n",
              "<mark class=\"entity\" style=\"background: #feca74; padding: 0.45em 0.6em; margin: 0 0.25em; line-height: 1; border-radius: 0.35em;\">\n",
              "    Omaha\n",
              "    <span style=\"font-size: 0.8em; font-weight: bold; line-height: 1; border-radius: 0.35em; vertical-align: middle; margin-left: 0.5rem\">GPE</span>\n",
              "</mark>\n",
              ", \n",
              "<mark class=\"entity\" style=\"background: #7aecec; padding: 0.45em 0.6em; margin: 0 0.25em; line-height: 1; border-radius: 0.35em;\">\n",
              "    NE 68103-2830'\n",
              "    <span style=\"font-size: 0.8em; font-weight: bold; line-height: 1; border-radius: 0.35em; vertical-align: middle; margin-left: 0.5rem\">ORG</span>\n",
              "</mark>\n",
              ", 'Account Statement \n",
              "<mark class=\"entity\" style=\"background: #bfe1d9; padding: 0.45em 0.6em; margin: 0 0.25em; line-height: 1; border-radius: 0.35em;\">\n",
              "    January 1, 2022 January 31\n",
              "    <span style=\"font-size: 0.8em; font-weight: bold; line-height: 1; border-radius: 0.35em; vertical-align: middle; margin-left: 0.5rem\">DATE</span>\n",
              "</mark>\n",
              ", \n",
              "<mark class=\"entity\" style=\"background: #e4e7d2; padding: 0.45em 0.6em; margin: 0 0.25em; line-height: 1; border-radius: 0.35em;\">\n",
              "    2022\n",
              "    <span style=\"font-size: 0.8em; font-weight: bold; line-height: 1; border-radius: 0.35em; vertical-align: middle; margin-left: 0.5rem\">CARDINAL</span>\n",
              "</mark>\n",
              " Page \n",
              "<mark class=\"entity\" style=\"background: #e4e7d2; padding: 0.45em 0.6em; margin: 0 0.25em; line-height: 1; border-radius: 0.35em;\">\n",
              "    1\n",
              "    <span style=\"font-size: 0.8em; font-weight: bold; line-height: 1; border-radius: 0.35em; vertical-align: middle; margin-left: 0.5rem\">CARDINAL</span>\n",
              "</mark>\n",
              " of \n",
              "<mark class=\"entity\" style=\"background: #e4e7d2; padding: 0.45em 0.6em; margin: 0 0.25em; line-height: 1; border-radius: 0.35em;\">\n",
              "    6\n",
              "    <span style=\"font-size: 0.8em; font-weight: bold; line-height: 1; border-radius: 0.35em; vertical-align: middle; margin-left: 0.5rem\">CARDINAL</span>\n",
              "</mark>\n",
              "', 'Atyour service bankofthewest.com', '&gt;016671 6888744 0001 008230 \n",
              "<mark class=\"entity\" style=\"background: #e4e7d2; padding: 0.45em 0.6em; margin: 0 0.25em; line-height: 1; border-radius: 0.35em;\">\n",
              "    102\n",
              "    <span style=\"font-size: 0.8em; font-weight: bold; line-height: 1; border-radius: 0.35em; vertical-align: middle; margin-left: 0.5rem\">CARDINAL</span>\n",
              "</mark>\n",
              " \n",
              "<mark class=\"entity\" style=\"background: #aa9cfc; padding: 0.45em 0.6em; margin: 0 0.25em; line-height: 1; border-radius: 0.35em;\">\n",
              "    DARIUS LAMONT TURNER\n",
              "    <span style=\"font-size: 0.8em; font-weight: bold; line-height: 1; border-radius: 0.35em; vertical-align: middle; margin-left: 0.5rem\">PERSON</span>\n",
              "</mark>\n",
              " \n",
              "<mark class=\"entity\" style=\"background: #7aecec; padding: 0.45em 0.6em; margin: 0 0.25em; line-height: 1; border-radius: 0.35em;\">\n",
              "    DBA\n",
              "    <span style=\"font-size: 0.8em; font-weight: bold; line-height: 1; border-radius: 0.35em; vertical-align: middle; margin-left: 0.5rem\">ORG</span>\n",
              "</mark>\n",
              " \n",
              "<mark class=\"entity\" style=\"background: #7aecec; padding: 0.45em 0.6em; margin: 0 0.25em; line-height: 1; border-radius: 0.35em;\">\n",
              "    DARIUS TURNER 9631\n",
              "    <span style=\"font-size: 0.8em; font-weight: bold; line-height: 1; border-radius: 0.35em; vertical-align: middle; margin-left: 0.5rem\">ORG</span>\n",
              "</mark>\n",
              " PILLITERI WAY ELK GROVE CA 95757-4615', '1-800-488-2265', '1-800-659-5495 TTY', 'We Appreciate You Thank you for banking with \n",
              "<mark class=\"entity\" style=\"background: #7aecec; padding: 0.45em 0.6em; margin: 0 0.25em; line-height: 1; border-radius: 0.35em;\">\n",
              "    Bank of the West\n",
              "    <span style=\"font-size: 0.8em; font-weight: bold; line-height: 1; border-radius: 0.35em; vertical-align: middle; margin-left: 0.5rem\">ORG</span>\n",
              "</mark>\n",
              ": We appreciate your business and look forward to continuing to serve your banking needs:', '1 3 3 ] 8', 'CLASSIC BUSINESS CHECKING 040-618407 \n",
              "<mark class=\"entity\" style=\"background: #aa9cfc; padding: 0.45em 0.6em; margin: 0 0.25em; line-height: 1; border-radius: 0.35em;\">\n",
              "    DARIUS LAMONT TURNER\n",
              "    <span style=\"font-size: 0.8em; font-weight: bold; line-height: 1; border-radius: 0.35em; vertical-align: middle; margin-left: 0.5rem\">PERSON</span>\n",
              "</mark>\n",
              " \n",
              "<mark class=\"entity\" style=\"background: #7aecec; padding: 0.45em 0.6em; margin: 0 0.25em; line-height: 1; border-radius: 0.35em;\">\n",
              "    DBA\n",
              "    <span style=\"font-size: 0.8em; font-weight: bold; line-height: 1; border-radius: 0.35em; vertical-align: middle; margin-left: 0.5rem\">ORG</span>\n",
              "</mark>\n",
              " \n",
              "<mark class=\"entity\" style=\"background: #aa9cfc; padding: 0.45em 0.6em; margin: 0 0.25em; line-height: 1; border-radius: 0.35em;\">\n",
              "    DARIUS TURNER'\n",
              "    <span style=\"font-size: 0.8em; font-weight: bold; line-height: 1; border-radius: 0.35em; vertical-align: middle; margin-left: 0.5rem\">PERSON</span>\n",
              "</mark>\n",
              ", 'ACCOUNT SUMMARY Beginning Balance Credits Deposits 135 Withdrawals 4 Checks Ending Balance', 'EARNINGS SUMMARY Interest this statement period Interest credited \n",
              "<mark class=\"entity\" style=\"background: #bfe1d9; padding: 0.45em 0.6em; margin: 0 0.25em; line-height: 1; border-radius: 0.35em;\">\n",
              "    year-to-date\n",
              "    <span style=\"font-size: 0.8em; font-weight: bold; line-height: 1; border-radius: 0.35em; vertical-align: middle; margin-left: 0.5rem\">DATE</span>\n",
              "</mark>\n",
              " Interest credited \n",
              "<mark class=\"entity\" style=\"background: #bfe1d9; padding: 0.45em 0.6em; margin: 0 0.25em; line-height: 1; border-radius: 0.35em;\">\n",
              "    prior year\n",
              "    <span style=\"font-size: 0.8em; font-weight: bold; line-height: 1; border-radius: 0.35em; vertical-align: middle; margin-left: 0.5rem\">DATE</span>\n",
              "</mark>\n",
              " \n",
              "<mark class=\"entity\" style=\"background: #bfe1d9; padding: 0.45em 0.6em; margin: 0 0.25em; line-height: 1; border-radius: 0.35em;\">\n",
              "    Annual\n",
              "    <span style=\"font-size: 0.8em; font-weight: bold; line-height: 1; border-radius: 0.35em; vertical-align: middle; margin-left: 0.5rem\">DATE</span>\n",
              "</mark>\n",
              " percentage yield earned Average \n",
              "<mark class=\"entity\" style=\"background: #bfe1d9; padding: 0.45em 0.6em; margin: 0 0.25em; line-height: 1; border-radius: 0.35em;\">\n",
              "    monthly\n",
              "    <span style=\"font-size: 0.8em; font-weight: bold; line-height: 1; border-radius: 0.35em; vertical-align: middle; margin-left: 0.5rem\">DATE</span>\n",
              "</mark>\n",
              " balance', 'S19,399.41 60,030.58 \n",
              "<mark class=\"entity\" style=\"background: #e4e7d2; padding: 0.45em 0.6em; margin: 0 0.25em; line-height: 1; border-radius: 0.35em;\">\n",
              "    00\n",
              "    <span style=\"font-size: 0.8em; font-weight: bold; line-height: 1; border-radius: 0.35em; vertical-align: middle; margin-left: 0.5rem\">CARDINAL</span>\n",
              "</mark>\n",
              " \n",
              "<mark class=\"entity\" style=\"background: #aa9cfc; padding: 0.45em 0.6em; margin: 0 0.25em; line-height: 1; border-radius: 0.35em;\">\n",
              "    -42,462.17 -4,312.71\n",
              "    <span style=\"font-size: 0.8em; font-weight: bold; line-height: 1; border-radius: 0.35em; vertical-align: middle; margin-left: 0.5rem\">PERSON</span>\n",
              "</mark>\n",
              " 532,655.11', 'SO.OO So.OO SO.0O \n",
              "<mark class=\"entity\" style=\"background: #e4e7d2; padding: 0.45em 0.6em; margin: 0 0.25em; line-height: 1; border-radius: 0.35em;\">\n",
              "    0.00%\n",
              "    <span style=\"font-size: 0.8em; font-weight: bold; line-height: 1; border-radius: 0.35em; vertical-align: middle; margin-left: 0.5rem\">PERCENT</span>\n",
              "</mark>\n",
              " S18,661.62', 'For your protection: Examine this statement promptly: Any discrepancy must be reported within \n",
              "<mark class=\"entity\" style=\"background: #bfe1d9; padding: 0.45em 0.6em; margin: 0 0.25em; line-height: 1; border-radius: 0.35em;\">\n",
              "    30 days\n",
              "    <span style=\"font-size: 0.8em; font-weight: bold; line-height: 1; border-radius: 0.35em; vertical-align: middle; margin-left: 0.5rem\">DATE</span>\n",
              "</mark>\n",
              "_ Consumer customers: A discrepancy regarding an electronic payment or line of credit must be reported within \n",
              "<mark class=\"entity\" style=\"background: #bfe1d9; padding: 0.45em 0.6em; margin: 0 0.25em; line-height: 1; border-radius: 0.35em;\">\n",
              "    60 days\n",
              "    <span style=\"font-size: 0.8em; font-weight: bold; line-height: 1; border-radius: 0.35em; vertical-align: middle; margin-left: 0.5rem\">DATE</span>\n",
              "</mark>\n",
              ".', 'Me m b et \n",
              "<mark class=\"entity\" style=\"background: #7aecec; padding: 0.45em 0.6em; margin: 0 0.25em; line-height: 1; border-radius: 0.35em;\">\n",
              "    FDIC\n",
              "    <span style=\"font-size: 0.8em; font-weight: bold; line-height: 1; border-radius: 0.35em; vertical-align: middle; margin-left: 0.5rem\">ORG</span>\n",
              "</mark>\n",
              " @eNGer', 'In \n",
              "<mark class=\"entity\" style=\"background: #feca74; padding: 0.45em 0.6em; margin: 0 0.25em; line-height: 1; border-radius: 0.35em;\">\n",
              "    South Dakota\n",
              "    <span style=\"font-size: 0.8em; font-weight: bold; line-height: 1; border-radius: 0.35em; vertical-align: middle; margin-left: 0.5rem\">GPE</span>\n",
              "</mark>\n",
              "; \n",
              "<mark class=\"entity\" style=\"background: #7aecec; padding: 0.45em 0.6em; margin: 0 0.25em; line-height: 1; border-radius: 0.35em;\">\n",
              "    Bank of the West\n",
              "    <span style=\"font-size: 0.8em; font-weight: bold; line-height: 1; border-radius: 0.35em; vertical-align: middle; margin-left: 0.5rem\">ORG</span>\n",
              "</mark>\n",
              " operates under the name of \n",
              "<mark class=\"entity\" style=\"background: #7aecec; padding: 0.45em 0.6em; margin: 0 0.25em; line-height: 1; border-radius: 0.35em;\">\n",
              "    Bank of the West California'\n",
              "    <span style=\"font-size: 0.8em; font-weight: bold; line-height: 1; border-radius: 0.35em; vertical-align: middle; margin-left: 0.5rem\">ORG</span>\n",
              "</mark>\n",
              "]</div></span>"
            ]
          },
          "metadata": {}
        }
      ]
    },
    {
      "cell_type": "code",
      "source": [
        ""
      ],
      "metadata": {
        "id": "UEC0h5L0u8A4"
      },
      "execution_count": 12,
      "outputs": []
    }
  ],
  "metadata": {
    "colab": {
      "collapsed_sections": [],
      "name": "GrandFinal.ipynb",
      "provenance": []
    },
    "kernelspec": {
      "display_name": "Python 3.10.2 64-bit",
      "language": "python",
      "name": "python3"
    },
    "language_info": {
      "codemirror_mode": {
        "name": "ipython",
        "version": 3
      },
      "file_extension": ".py",
      "mimetype": "text/x-python",
      "name": "python",
      "nbconvert_exporter": "python",
      "pygments_lexer": "ipython3",
      "version": "3.10.2"
    },
    "vscode": {
      "interpreter": {
        "hash": "e450050b432e843bda3c41bf3272c133bfc370a7003f3e377e27f87a49ce1127"
      }
    }
  },
  "nbformat": 4,
  "nbformat_minor": 0
}